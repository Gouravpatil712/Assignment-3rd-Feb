{
 "cells": [
  {
   "cell_type": "markdown",
   "id": "2ee66075-0360-4277-aa6c-eee9c1a32fa7",
   "metadata": {},
   "source": [
    "## Question 01 - Which keyword is used to create a function ? create a function to return a list of odd numbers in the range of (1,25)"
   ]
  },
  {
   "cell_type": "code",
   "execution_count": 1,
   "id": "804a56eb-3bc5-4a91-98b0-5ea984252975",
   "metadata": {},
   "outputs": [
    {
     "name": "stdout",
     "output_type": "stream",
     "text": [
      "[1, 3, 5, 7, 9, 11, 13, 15, 17, 19, 21, 23, 25]\n"
     ]
    }
   ],
   "source": [
    "# Answer :-  The keyword 'def' is used to create a function.\n",
    "# The function example whiich return a list of odd numbers in the range of (1,25)\n",
    "\n",
    "def odd_numbers(start, end):\n",
    "    odd_list = []\n",
    "    for i in range(1, 26):\n",
    "        if i % 2 != 0:\n",
    "            odd_list.append(i)\n",
    "    return odd_list\n",
    "\n",
    "print(odd_numbers(1, 26))\n",
    "\n"
   ]
  },
  {
   "cell_type": "markdown",
   "id": "5f38e3df-9e85-4345-8555-fcb61465b1ed",
   "metadata": {},
   "source": [
    "## Question 02 - Why *args and *kwargs is used in some function? create a function each for *args and *kwargs to demonstrate their use ?"
   ]
  },
  {
   "cell_type": "code",
   "execution_count": 2,
   "id": "a63ad263-d5ed-4cea-be59-57c7d9e56f58",
   "metadata": {},
   "outputs": [],
   "source": [
    "# Answer :-  *args - \n",
    "'''*args is used to send a non-keyworded variable length argument list to the function.\n",
    "It's used to pass a variable number of non-keyworded arguments to a function, where the arguments will be treated as a tuple'''\n",
    "\n",
    "def test_args(*args):\n",
    "    return args\n",
    "    print_args(1, 2, 3)"
   ]
  },
  {
   "cell_type": "code",
   "execution_count": 3,
   "id": "4c323f70-aefe-46e4-9b78-1eeb50cc269a",
   "metadata": {},
   "outputs": [
    {
     "data": {
      "text/plain": [
       "{'First_name': 'Gourav', 'Last_name': 'Patil', 'age': 24}"
      ]
     },
     "execution_count": 3,
     "metadata": {},
     "output_type": "execute_result"
    }
   ],
   "source": [
    "# *kwargs - \n",
    "'''**kwargs is used to send a keyworded variable length argument list to the function.\n",
    "Its used to pass a keyworded, variable-length argument list to a function, where the arguments will be treated as a dictionary'''\n",
    "\n",
    "def test_kwargs(**kwargs):\n",
    "    return kwargs\n",
    "\n",
    "test_kwargs(First_name ='Gourav', Last_name = 'Patil', age=24)"
   ]
  },
  {
   "cell_type": "markdown",
   "id": "121847c5-4d87-4c48-8b68-5a4b8a1e3eb4",
   "metadata": {},
   "source": [
    "## Question 03 -  What is an iterator in python? Name the method used to initialise the iterator object and the method\n",
    "used for iteration. Use these methods to print the first five elements of the given list [2, 4, 6, 8, 10, 12, 14,\n",
    "16, 18, 20]."
   ]
  },
  {
   "cell_type": "code",
   "execution_count": 4,
   "id": "6a461718-0e81-4add-bf95-4ce44329775b",
   "metadata": {},
   "outputs": [
    {
     "name": "stdout",
     "output_type": "stream",
     "text": [
      "2\n",
      "4\n",
      "6\n",
      "8\n",
      "10\n"
     ]
    }
   ],
   "source": [
    "# Answer :-  \n",
    "'''An iterator in Python is an object that can be used to traverse a collection of items, such as a list,one item at a time.\n",
    "To create an iterator, you can call the iter() function on the collection you want to iterate over.\n",
    "To get the next item from the iterator, you can call the next() function.'''\n",
    "\n",
    "my_list = [2, 4, 6, 8, 10, 12, 14, 16, 18, 20]\n",
    "\n",
    "my_iter = iter(my_list)\n",
    "\n",
    "for i in range(5):\n",
    "    print(next(my_iter))\n"
   ]
  },
  {
   "cell_type": "markdown",
   "id": "8e312522-4cc7-40a9-8344-73581f60e812",
   "metadata": {},
   "source": [
    "## Question 04 -  What is a generator function in python? Why yield keyword is used? Give an example of a generator function."
   ]
  },
  {
   "cell_type": "code",
   "execution_count": 5,
   "id": "472c976d-a1b1-49f4-aad3-1357c808ca7f",
   "metadata": {},
   "outputs": [
    {
     "name": "stdout",
     "output_type": "stream",
     "text": [
      "0\n",
      "1\n",
      "1\n",
      "2\n",
      "3\n"
     ]
    }
   ],
   "source": [
    "# Answer :-\n",
    "'''A generator function in Python is a special type of function that returns a generator iterator.\n",
    "The generator function uses the yield keyword to return a value, and can be used to generate a sequence of values on\n",
    "the fly,instead of having to generate all values beforehand.\n",
    "\n",
    "The yield keyword is used in a generator function to return a value and pause the function's execution.\n",
    "When the function is resumed, it continues to execute from the point where it was paused,until it encounters another\n",
    "yield statement'''\n",
    "\n",
    "# Example \n",
    "\n",
    "def fibonacci(n):\n",
    "    a, b = 0, 1\n",
    "    for i in range(n):\n",
    "        yield a\n",
    "        a, b = b, a + b\n",
    "\n",
    "fib_gen = fibonacci(5)\n",
    "\n",
    "for num in fib_gen:\n",
    "    print(num)\n"
   ]
  },
  {
   "cell_type": "markdown",
   "id": "6be97460-0f0d-4044-a2bf-c31a529a0733",
   "metadata": {},
   "source": [
    "## Question 05 - Create a generator function for prime numbers less than 1000. Use the next() method to print the first 20 prime numbers."
   ]
  },
  {
   "cell_type": "code",
   "execution_count": 6,
   "id": "9b5f94cb-013d-42ff-8008-2f4c6fbdb0a4",
   "metadata": {},
   "outputs": [
    {
     "name": "stdout",
     "output_type": "stream",
     "text": [
      "2\n",
      "3\n",
      "5\n",
      "7\n",
      "11\n",
      "13\n",
      "17\n",
      "19\n",
      "23\n",
      "29\n",
      "31\n",
      "37\n",
      "41\n",
      "43\n",
      "47\n",
      "53\n",
      "59\n",
      "61\n",
      "67\n",
      "71\n"
     ]
    }
   ],
   "source": [
    "# Answer :-\n",
    "\n",
    "def prime_numbers_less_than_1000():\n",
    "    primes = []\n",
    "    for num in range(2, 1000):\n",
    "        for i in range(2, num):\n",
    "            if (num % i) == 0:\n",
    "                break\n",
    "        else:\n",
    "            primes.append(num)\n",
    "            yield num\n",
    "\n",
    "prime_gen = prime_numbers_less_than_1000()\n",
    "\n",
    "for i in range(20):\n",
    "    print(next(prime_gen))\n"
   ]
  },
  {
   "cell_type": "markdown",
   "id": "7980dde8-a156-42d2-b46c-839d24504252",
   "metadata": {},
   "source": [
    "## Question 06 - Write a python program to print the first 10 Fibonacci numbers using a while loop."
   ]
  },
  {
   "cell_type": "code",
   "execution_count": 7,
   "id": "9f74a7e2-01d2-4391-a370-a1daf6cfa7e1",
   "metadata": {},
   "outputs": [
    {
     "name": "stdin",
     "output_type": "stream",
     "text": [
      "Enter the number of element you are looking for 5\n"
     ]
    },
    {
     "name": "stdout",
     "output_type": "stream",
     "text": [
      "0\n",
      "1\n",
      "1\n",
      "2\n",
      "3\n"
     ]
    }
   ],
   "source": [
    "# Answer :-  \n",
    "\n",
    "number = int(input('Enter the number of element you are looking for'))\n",
    "a , b = 0, 1\n",
    "counter = 0\n",
    "\n",
    "while counter < number :\n",
    "    print(a)\n",
    "    c = a+b\n",
    "    a = b\n",
    "    b = c\n",
    "    counter = counter + 1\n"
   ]
  },
  {
   "cell_type": "markdown",
   "id": "2a4a6eb3-0751-456f-91cf-89507e8588b8",
   "metadata": {},
   "source": [
    "## Question 07 - Write a List Comprehension to iterate through the given string: ‘pwskills’.\n",
    "Expected output: ['p', 'w', 's', 'k', 'i', 'l', 'l', 's']"
   ]
  },
  {
   "cell_type": "code",
   "execution_count": 8,
   "id": "9b6772d5-572c-4356-8cac-b04fa08f9319",
   "metadata": {},
   "outputs": [
    {
     "name": "stdout",
     "output_type": "stream",
     "text": [
      "['p', 'w', 's', 'k', 'i', 'l', 'l', 's']\n"
     ]
    }
   ],
   "source": [
    "# Answer :-  \n",
    "\n",
    "string = \"pwskills\"\n",
    "result = []\n",
    "for i in string:\n",
    "    result.append(i)\n",
    "\n",
    "print(result)\n"
   ]
  },
  {
   "cell_type": "markdown",
   "id": "0c1c36de-37d4-4546-a9b5-4fdcb5147ae3",
   "metadata": {},
   "source": [
    "## Question 08 - Write a python program to check whether a given number is Palindrome or not using a while loop."
   ]
  },
  {
   "cell_type": "code",
   "execution_count": null,
   "id": "0fd8574e-e4a8-47d3-9d58-c62a509018c4",
   "metadata": {},
   "outputs": [],
   "source": [
    "# Answer :- \n",
    "\n",
    "number = int(input(\"Enter a number: \"))\n",
    "\n",
    "original_number = number\n",
    "reverse = 0\n",
    "while number > 0:\n",
    "    last_digit = number % 10\n",
    "    reverse = (reverse * 10) + last_digit\n",
    "    number = number // 10\n",
    "\n",
    "if original_number == reverse:\n",
    "    print(f\"{original_number} is a palindrome.\")\n",
    "else:\n",
    "    print(f\"{original_number} is not a palindrome.\")\n"
   ]
  },
  {
   "cell_type": "markdown",
   "id": "9658afee-4b10-42ef-88d8-fe691211278c",
   "metadata": {},
   "source": [
    "## Question 09 - Write a code to print odd numbers from 1 to 100 using list comprehension."
   ]
  },
  {
   "cell_type": "code",
   "execution_count": null,
   "id": "950770c5-1515-4bbb-927b-95b693a85b10",
   "metadata": {},
   "outputs": [],
   "source": [
    "# Answer :-\n",
    "\n",
    "odd_numbers = []\n",
    "for num in range(1, 101):\n",
    "    if num % 2 != 0:\n",
    "        odd_numbers.append(num)\n",
    "print(odd_numbers)\n"
   ]
  },
  {
   "cell_type": "code",
   "execution_count": null,
   "id": "5be993bf-fcce-43a4-a530-76e6a1d68e0a",
   "metadata": {},
   "outputs": [],
   "source": []
  }
 ],
 "metadata": {
  "kernelspec": {
   "display_name": "Python 3 (ipykernel)",
   "language": "python",
   "name": "python3"
  },
  "language_info": {
   "codemirror_mode": {
    "name": "ipython",
    "version": 3
   },
   "file_extension": ".py",
   "mimetype": "text/x-python",
   "name": "python",
   "nbconvert_exporter": "python",
   "pygments_lexer": "ipython3",
   "version": "3.10.8"
  }
 },
 "nbformat": 4,
 "nbformat_minor": 5
}
